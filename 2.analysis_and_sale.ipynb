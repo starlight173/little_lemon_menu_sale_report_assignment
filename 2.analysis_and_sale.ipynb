{
 "cells": [
  {
   "cell_type": "code",
   "execution_count": 32,
   "metadata": {},
   "outputs": [
    {
     "name": "stdout",
     "output_type": "stream",
     "text": [
      "No more connections are available.\n",
      "Adding new connection in the pool.\n",
      "A new connection is added in the pool.\n",
      "\n"
     ]
    }
   ],
   "source": [
    "from mysql.connector.pooling import MySQLConnectionPool\n",
    "from mysql.connector import Error\n",
    "import mysql.connector as connector\n",
    "\n",
    "try:\n",
    "  dbconfig={\"database\":\"little_lemon_db\", \"user\":\"root\", \"password\":\"123123\"}\n",
    "\n",
    "  pool_b = MySQLConnectionPool(pool_name = \"ll_pool_b\",\n",
    "                              pool_size = 2,\n",
    "                            **dbconfig)\n",
    "  guests = [\n",
    "    {\n",
    "        \"Table_Number\": 8,\n",
    "        \"First_Name\": \"Anees\",\n",
    "        \"Last_Name\": \"Java\",\n",
    "        \"Booking_Time\": \"18:00\",\n",
    "        \"EmployeeID\": 6\n",
    "    },\n",
    "    {\n",
    "        \"Table_Number\": 5,\n",
    "        \"First_Name\": \"Bald\",\n",
    "        \"Last_Name\": \"Vin\",\n",
    "        \"Booking_Time\": \"19:00\",\n",
    "        \"EmployeeID\": 6\n",
    "    },\n",
    "    {\n",
    "        \"Table_Number\": 12,\n",
    "        \"First_Name\": \"Jay\",\n",
    "        \"Last_Name\": \"Kon\",\n",
    "        \"Booking_Time\": \"19:30\",\n",
    "        \"EmployeeID\": 6\n",
    "    }\n",
    "  ]\n",
    "  \n",
    "  def insert_new_guest(data, cursor, connection):\n",
    "    insert_guest_stmt = f\"\"\"\n",
    "      INSERT INTO Bookings (TableNo, GuestFirstName, \n",
    "      GuestLastName, BookingSlot, EmployeeID)\n",
    "      VALUES\n",
    "      ({data['Table_Number']}, \"{data['First_Name']}\",\"{data['Last_Name']}\",\"{data['Booking_Time']}\",{data['EmployeeID']});\n",
    "    \"\"\"\n",
    "    cursor.execute(insert_guest_stmt)\n",
    "    connection.commit()\n",
    "  \n",
    "  # Assign connection to each user\n",
    "  for guest in guests:\n",
    "    try:\n",
    "      connection = pool_b.get_connection()\n",
    "      cursor = connection.cursor()\n",
    "      insert_new_guest(guest, cursor, connection)\n",
    "    except connector.errors.PoolError:\n",
    "      print(\"No more connections are available.\")\n",
    "      print(\"Adding new connection in the pool.\")\n",
    "      \n",
    "      # Create a connection\n",
    "      connection=connector.connect(user=\"root\",password=\"123123\")\n",
    "      # Add the connection into the pool\n",
    "      pool_b.add_connection(cnx=connection)\n",
    "      print(\"A new connection is added in the pool.\\n\")\n",
    "      \n",
    "      connection = pool_b.get_connection()\n",
    "      cursor = connection.cursor()\n",
    "      insert_new_guest(guest, cursor, connection)\n",
    "    except Error as e:\n",
    "      print(f\"Error: {e}\")\n",
    "except Error as e:\n",
    "  print(f\"Error: {e}\")\n",
    "  \n",
    "# Close the connection\n",
    "connection.close()"
   ]
  },
  {
   "cell_type": "code",
   "execution_count": 5,
   "metadata": {},
   "outputs": [
    {
     "name": "stdout",
     "output_type": "stream",
     "text": [
      "('EmployeeID', 'Name')\n",
      "(1, 'Mario Gollini')\n"
     ]
    }
   ],
   "source": [
    "# The name and EmployeeID of the Little Lemon manager.\n",
    "\n",
    "select_managers_stmt=\"\"\"\n",
    "SELECT EmployeeID, Name \n",
    "FROM Employees\n",
    "WHERE Role = \"Manager\"\n",
    "\"\"\"\n",
    "try:\n",
    "  cursor.execute(select_managers_stmt)\n",
    "\n",
    "  results = cursor.fetchall()\n",
    "  \n",
    "  print(cursor.column_names)\n",
    "  for result in results:\n",
    "    print(result)\n",
    "\n",
    "except Exception as e:\n",
    "    print(f\"Error: {e}\")\n",
    "\n",
    "connection.close()"
   ]
  },
  {
   "cell_type": "code",
   "execution_count": 6,
   "metadata": {},
   "outputs": [
    {
     "name": "stdout",
     "output_type": "stream",
     "text": [
      "('Name', 'Role')\n",
      "('Mario Gollini', 'Manager')\n"
     ]
    }
   ],
   "source": [
    "# The name and role of the employee who receives the highest salary.\n",
    "\n",
    "select_highest_salary_stmt=\"\"\"\n",
    "SELECT Name, Role\n",
    "FROM Employees\n",
    "ORDER BY Annual_Salary DESC LIMIT 1;\n",
    "\"\"\"\n",
    "try:\n",
    "  cursor.execute(select_highest_salary_stmt)\n",
    "\n",
    "  results = cursor.fetchall()\n",
    "  \n",
    "  print(cursor.column_names)\n",
    "  for result in results:\n",
    "    print(result)\n",
    "\n",
    "except Exception as e:\n",
    "    print(f\"Error: {e}\")\n",
    "\n",
    "connection.close()"
   ]
  },
  {
   "cell_type": "code",
   "execution_count": 7,
   "metadata": {},
   "outputs": [
    {
     "name": "stdout",
     "output_type": "stream",
     "text": [
      "('BookingID', 'TableNo', 'GuestFirstName', 'GuestLastName', 'BookingSlot', 'EmployeeID')\n",
      "(1, 12, 'Anna', 'Iversen', datetime.timedelta(seconds=68400), 1)\n",
      "(2, 12, 'Joakim', 'Iversen', datetime.timedelta(seconds=68400), 1)\n",
      "(5, 5, 'Hiroki', 'Yamane', datetime.timedelta(seconds=66600), 2)\n",
      "(6, 8, 'Diana', 'Pinto', datetime.timedelta(seconds=72000), 5)\n",
      "(7, 8, 'Anees', 'Java', datetime.timedelta(seconds=64800), 6)\n",
      "(8, 5, 'Bald', 'Vin', datetime.timedelta(seconds=68400), 6)\n",
      "(9, 12, 'Jay', 'Kon', datetime.timedelta(seconds=70200), 6)\n",
      "(10, 8, 'Anees', 'Java', datetime.timedelta(seconds=64800), 6)\n",
      "(11, 5, 'Bald', 'Vin', datetime.timedelta(seconds=68400), 6)\n",
      "(12, 12, 'Jay', 'Kon', datetime.timedelta(seconds=70200), 6)\n",
      "(13, 8, 'Anees', 'Java', datetime.timedelta(seconds=64800), 6)\n",
      "(14, 5, 'Bald', 'Vin', datetime.timedelta(seconds=68400), 6)\n",
      "(15, 12, 'Jay', 'Kon', datetime.timedelta(seconds=70200), 6)\n",
      "(16, 8, 'Anees', 'Java', datetime.timedelta(seconds=64800), 6)\n",
      "(17, 5, 'Bald', 'Vin', datetime.timedelta(seconds=68400), 6)\n",
      "(18, 12, 'Jay', 'Kon', datetime.timedelta(seconds=70200), 6)\n"
     ]
    }
   ],
   "source": [
    "# The number of guests booked between 18:00 and 20:00.\n",
    "guest_book_between_18_20_h_stmt=\"\"\"\n",
    "SELECT *\n",
    "FROM Bookings\n",
    "WHERE HOUR(BookingSlot) BETWEEN 18 AND 20\n",
    "\"\"\"\n",
    "try:\n",
    "  cursor.execute(guest_book_between_18_20_h_stmt)\n",
    "\n",
    "  results = cursor.fetchall()\n",
    "  \n",
    "  print(cursor.column_names)\n",
    "  for result in results:\n",
    "    print(result)\n",
    "\n",
    "except Exception as e:\n",
    "    print(f\"Error: {e}\")\n",
    "\n",
    "connection.close()"
   ]
  },
  {
   "cell_type": "code",
   "execution_count": 9,
   "metadata": {},
   "outputs": [
    {
     "name": "stdout",
     "output_type": "stream",
     "text": [
      "('BookingID', 'Guest', 'BookingSlot')\n",
      "(9, 'Jay Kon', datetime.timedelta(seconds=70200))\n",
      "(12, 'Jay Kon', datetime.timedelta(seconds=70200))\n",
      "(15, 'Jay Kon', datetime.timedelta(seconds=70200))\n",
      "(18, 'Jay Kon', datetime.timedelta(seconds=70200))\n",
      "(8, 'Bald Vin', datetime.timedelta(seconds=68400))\n",
      "(11, 'Bald Vin', datetime.timedelta(seconds=68400))\n",
      "(14, 'Bald Vin', datetime.timedelta(seconds=68400))\n",
      "(17, 'Bald Vin', datetime.timedelta(seconds=68400))\n",
      "(7, 'Anees Java', datetime.timedelta(seconds=64800))\n",
      "(10, 'Anees Java', datetime.timedelta(seconds=64800))\n",
      "(13, 'Anees Java', datetime.timedelta(seconds=64800))\n",
      "(16, 'Anees Java', datetime.timedelta(seconds=64800))\n"
     ]
    }
   ],
   "source": [
    "# The full name and BookingID of all guests waiting to be seated with the receptionist in sorted order with respect to their BookingSlot.\n",
    "waiting_guest_book_stmt=\"\"\"\n",
    "SELECT b.BookingID, CONCAT(b.GuestFirstName, ' ', b.GuestLastName) AS Guest, b.BookingSlot\n",
    "FROM Bookings b\n",
    "INNER JOIN Employees e ON b.EmployeeID = e.EmployeeID\n",
    "WHERE e.Role = \"Receptionist\"\n",
    "ORDER BY b.BookingSlot DESC\n",
    "\"\"\"\n",
    "try:\n",
    "  cursor.execute(waiting_guest_book_stmt)\n",
    "\n",
    "  results = cursor.fetchall()\n",
    "  \n",
    "  print(cursor.column_names)\n",
    "  for result in results:\n",
    "    print(result)\n",
    "\n",
    "except Exception as e:\n",
    "    print(f\"Error: {e}\")\n",
    "\n",
    "connection.close()"
   ]
  },
  {
   "cell_type": "code",
   "execution_count": 31,
   "metadata": {},
   "outputs": [
    {
     "name": "stdout",
     "output_type": "stream",
     "text": [
      "(Decimal('243'), Decimal('48.6000'), 37, 86)\n"
     ]
    }
   ],
   "source": [
    "# Create the stored procedure query as a Python string\n",
    "basic_sale_report_stored_procedure_query = \"\"\"\n",
    "CREATE PROCEDURE IF NOT EXISTS BasicSalesReport ()\n",
    "BEGIN\n",
    "SELECT SUM(BillAmount) AS TotalSale, AVG(BillAmount) AS AvgSale, MIN(BillAmount) AS MinBill, MAX(BillAmount) AS MAxBill\n",
    "FROM Orders;\n",
    "END\n",
    "\"\"\"\n",
    "\n",
    "# Execute the stored procedure and store the results in the MySQL database using Python\n",
    "cursor.execute(basic_sale_report_stored_procedure_query)\n",
    "\n",
    "# Call or invoke the procedure using the cursor's callproc module\n",
    "cursor.callproc(\"BasicSalesReport\")\n",
    "\n",
    "# Retrieve the procedure's results using Python's built-in next function\n",
    "results = next(cursor.stored_results())\n",
    "\n",
    "# Call the fetchall method on the results variable to save the data set\n",
    "dataset = results.fetchall()\n",
    "\n",
    "# Print out the results\n",
    "for data in dataset:\n",
    "    print(data)\n",
    "\n",
    "connection.close()"
   ]
  },
  {
   "cell_type": "code",
   "execution_count": 30,
   "metadata": {},
   "outputs": [
    {
     "name": "stdout",
     "output_type": "stream",
     "text": [
      "[15:00:00]\n",
      "[Vanessa McCarthy]\n",
      "[Assigned to: Giorgos Dioudis [Head Chef]]\n",
      "\n",
      "\n",
      "[17:30:00]\n",
      "[Marcos Romero]\n",
      "[Assigned to: Fatma Kaya [Assistant Chef]]\n",
      "\n",
      "\n",
      "[18:00:00]\n",
      "[Anees Java]\n",
      "[Assigned to: John Millar [Receptionist]]\n",
      "\n",
      "\n"
     ]
    }
   ],
   "source": [
    "# Task 5\n",
    "connection.close()\n",
    "\n",
    "taskt_stmt=\"\"\"\n",
    "  SELECT b.BookingSlot, CONCAT(b.GuestFirstName, ' ', b.GuestLastName),  e.Name, e.Role \n",
    "  FROM Bookings b\n",
    "  INNER JOIN Employees e ON b.EmployeeID = e.EmployeeID\n",
    "  ORDER BY b.BookingSlot ASC\n",
    "  LIMIT 3;\n",
    "  \"\"\"\n",
    "\n",
    "try:\n",
    "  connection = pool_b.get_connection()\n",
    "  cursor = connection.cursor(buffered=True)\n",
    "  cursor.execute(taskt_stmt)\n",
    "  results = cursor.fetchall()\n",
    "  \n",
    "  for result in results:\n",
    "    print(f'[{result[0]}]')\n",
    "    print(f'[{result[1]}]')\n",
    "    print(f'[Assigned to: {result[2]} [{result[3]}]]')\n",
    "    print(\"\\n\")\n",
    "except Exception as e:\n",
    "    print(f\"Error: {e}\")"
   ]
  }
 ],
 "metadata": {
  "kernelspec": {
   "display_name": ".venv",
   "language": "python",
   "name": "python3"
  },
  "language_info": {
   "codemirror_mode": {
    "name": "ipython",
    "version": 3
   },
   "file_extension": ".py",
   "mimetype": "text/x-python",
   "name": "python",
   "nbconvert_exporter": "python",
   "pygments_lexer": "ipython3",
   "version": "3.12.2"
  }
 },
 "nbformat": 4,
 "nbformat_minor": 2
}
